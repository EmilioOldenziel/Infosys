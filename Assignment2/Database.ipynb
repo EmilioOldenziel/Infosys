{
 "cells": [
  {
   "cell_type": "code",
   "execution_count": null,
   "metadata": {},
   "outputs": [],
   "source": [
    "import psycopg2"
   ]
  },
  {
   "cell_type": "code",
   "execution_count": null,
   "metadata": {},
   "outputs": [],
   "source": [
    "# create gallery database\n",
    "try:\n",
    "    conn = psycopg2.connect(user=\"postgres\", password=\"mysecretpassword\", host=\"172.17.0.4\")\n",
    "except:\n",
    "    print(\"connecting failed\")\n",
    "    \n",
    "conn.set_session(autocommit=True)\n",
    "cur = conn.cursor()\n",
    "cur.execute(\"CREATE DATABASE gallery;\")\n",
    "conn.close()"
   ]
  },
  {
   "cell_type": "code",
   "execution_count": null,
   "metadata": {
    "collapsed": true
   },
   "outputs": [],
   "source": [
    "# connect to gallery database\n",
    "try:\n",
    "    conn = psycopg2.connect(dbname=\"gallery\", user=\"postgres\", password=\"mysecretpassword\", host=\"172.17.0.4\")\n",
    "except:\n",
    "    print(\"connecting failed\")\n",
    "\n",
    "conn.set_session(autocommit=True)\n",
    "cur = conn.cursor()"
   ]
  },
  {
   "cell_type": "code",
   "execution_count": null,
   "metadata": {},
   "outputs": [],
   "source": [
    "#create tables\n",
    "try:\n",
    "    cur.execute(open(\"schema.sql\", \"r\").read())\n",
    "except:\n",
    "    print(\"could not create tables\")"
   ]
  },
  {
   "cell_type": "code",
   "execution_count": null,
   "metadata": {},
   "outputs": [],
   "source": [
    "cur.execute(\"SELECT * FROM customers\")"
   ]
  }
 ],
 "metadata": {
  "kernelspec": {
   "display_name": "Python 3",
   "language": "python",
   "name": "python3"
  },
  "language_info": {
   "codemirror_mode": {
    "name": "ipython",
    "version": 3
   },
   "file_extension": ".py",
   "mimetype": "text/x-python",
   "name": "python",
   "nbconvert_exporter": "python",
   "pygments_lexer": "ipython3",
   "version": "3.6.4"
  }
 },
 "nbformat": 4,
 "nbformat_minor": 2
}
